{
 "cells": [
  {
   "cell_type": "code",
   "execution_count": 28,
   "id": "72b20d4f-d590-4562-82dc-cd12b1fe4e92",
   "metadata": {},
   "outputs": [],
   "source": [
    "import pandas as pd\n",
    "from sklearn.preprocessing import StandardScaler\n",
    "from sklearn.cluster import KMeans\n",
    "import matplotlib.pyplot as plt\n",
    "import seaborn as sns\n",
    "import pybaseball as pyb"
   ]
  },
  {
   "cell_type": "code",
   "execution_count": 29,
   "id": "f81a70fe-fa05-44ef-983d-a58e458f8bc0",
   "metadata": {},
   "outputs": [
    {
     "name": "stdout",
     "output_type": "stream",
     "text": [
      "This is a large query, it may take a moment to complete\n",
      "Skipping offseason dates\n",
      "Skipping offseason dates\n",
      "Skipping offseason dates\n"
     ]
    },
    {
     "name": "stderr",
     "output_type": "stream",
     "text": [
      "100%|█████████████████████████████████████████| 492/492 [02:36<00:00,  3.14it/s]\n"
     ]
    }
   ],
   "source": [
    "data = pyb.statcast(start_dt=\"2023-01-01\", end_dt=\"2024-12-31\")"
   ]
  },
  {
   "cell_type": "code",
   "execution_count": 30,
   "id": "c6c9421a-afec-42a3-8937-8977e0b8d626",
   "metadata": {},
   "outputs": [],
   "source": [
    "# Drop Rows where Pitch Type was NA\n",
    "data = data.dropna(subset=['pitch_type']).reset_index(drop=True)"
   ]
  },
  {
   "cell_type": "code",
   "execution_count": 32,
   "id": "bc24efc8-e69b-4e5e-ae12-a5c0b79a8be0",
   "metadata": {},
   "outputs": [],
   "source": [
    "# Create Results Column\n",
    "data['Results'] = data['events'].fillna(data['description'])"
   ]
  },
  {
   "cell_type": "code",
   "execution_count": 33,
   "id": "2b898495-6a1a-43a1-806c-1f16623e30cc",
   "metadata": {},
   "outputs": [],
   "source": [
    "# export to csv\n",
    "data.to_csv('mlb_pitcher_2023.csv', index=True)"
   ]
  },
  {
   "cell_type": "code",
   "execution_count": null,
   "id": "36a70ea0-8da0-4d99-9f64-53e0535f9172",
   "metadata": {},
   "outputs": [],
   "source": []
  }
 ],
 "metadata": {
  "kernelspec": {
   "display_name": "Python 3 (ipykernel)",
   "language": "python",
   "name": "python3"
  },
  "language_info": {
   "codemirror_mode": {
    "name": "ipython",
    "version": 3
   },
   "file_extension": ".py",
   "mimetype": "text/x-python",
   "name": "python",
   "nbconvert_exporter": "python",
   "pygments_lexer": "ipython3",
   "version": "3.9.12"
  }
 },
 "nbformat": 4,
 "nbformat_minor": 5
}
